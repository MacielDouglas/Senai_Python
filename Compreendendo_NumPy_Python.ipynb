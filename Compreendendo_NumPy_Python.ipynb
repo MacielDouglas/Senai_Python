{
  "nbformat": 4,
  "nbformat_minor": 0,
  "metadata": {
    "colab": {
      "name": "Compreendendo_NumPy_Python.ipynb",
      "provenance": [],
      "authorship_tag": "ABX9TyNb2r3Ecm2QQEhxalp9TeX8",
      "include_colab_link": true
    },
    "kernelspec": {
      "name": "python3",
      "display_name": "Python 3"
    },
    "language_info": {
      "name": "python"
    }
  },
  "cells": [
    {
      "cell_type": "markdown",
      "metadata": {
        "id": "view-in-github",
        "colab_type": "text"
      },
      "source": [
        "<a href=\"https://colab.research.google.com/github/MacielDouglas/Senai_Python/blob/main/Compreendendo_NumPy_Python.ipynb\" target=\"_parent\"><img src=\"https://colab.research.google.com/assets/colab-badge.svg\" alt=\"Open In Colab\"/></a>"
      ]
    },
    {
      "cell_type": "code",
      "execution_count": 1,
      "metadata": {
        "colab": {
          "base_uri": "https://localhost:8080/"
        },
        "id": "-y4vN-1YN0Cy",
        "outputId": "f6ecaeb5-79ea-438c-99a4-f79311e16068"
      },
      "outputs": [
        {
          "output_type": "stream",
          "name": "stdout",
          "text": [
            "[1 2 3 4 5 6]\n",
            "<class 'numpy.ndarray'>\n"
          ]
        }
      ],
      "source": [
        "import numpy as np\n",
        "\n",
        "a = np.array([1, 2, 3, 4, 5, 6])\n",
        "print(a)\n",
        "print(type(a))"
      ]
    },
    {
      "cell_type": "code",
      "source": [
        "zero_array = np.zeros(shape = (5, 3, 6))\n",
        "print(zero_array)"
      ],
      "metadata": {
        "colab": {
          "base_uri": "https://localhost:8080/"
        },
        "id": "KH8MPMoaISAZ",
        "outputId": "cd571b89-3062-475b-98c5-24fac04cbb22"
      },
      "execution_count": 14,
      "outputs": [
        {
          "output_type": "stream",
          "name": "stdout",
          "text": [
            "[[[0. 0. 0. 0. 0. 0.]\n",
            "  [0. 0. 0. 0. 0. 0.]\n",
            "  [0. 0. 0. 0. 0. 0.]]\n",
            "\n",
            " [[0. 0. 0. 0. 0. 0.]\n",
            "  [0. 0. 0. 0. 0. 0.]\n",
            "  [0. 0. 0. 0. 0. 0.]]\n",
            "\n",
            " [[0. 0. 0. 0. 0. 0.]\n",
            "  [0. 0. 0. 0. 0. 0.]\n",
            "  [0. 0. 0. 0. 0. 0.]]\n",
            "\n",
            " [[0. 0. 0. 0. 0. 0.]\n",
            "  [0. 0. 0. 0. 0. 0.]\n",
            "  [0. 0. 0. 0. 0. 0.]]\n",
            "\n",
            " [[0. 0. 0. 0. 0. 0.]\n",
            "  [0. 0. 0. 0. 0. 0.]\n",
            "  [0. 0. 0. 0. 0. 0.]]]\n"
          ]
        }
      ]
    },
    {
      "cell_type": "code",
      "source": [
        "print(zero_array.shape)\n",
        "print(zero_array.size)\n",
        "print(zero_array.ndim)"
      ],
      "metadata": {
        "colab": {
          "base_uri": "https://localhost:8080/"
        },
        "id": "flxK72a8KkeK",
        "outputId": "fcd3c633-c90b-4b94-be32-cb90066e3691"
      },
      "execution_count": 15,
      "outputs": [
        {
          "output_type": "stream",
          "name": "stdout",
          "text": [
            "(5, 3, 6)\n",
            "90\n",
            "3\n"
          ]
        }
      ]
    },
    {
      "cell_type": "code",
      "source": [
        "zero_dez = np.arange(10)\n",
        "print(zero_dez)\n",
        "\n",
        "pula_dois = np.arange(3, 15, 2)\n",
        "print(pula_dois)"
      ],
      "metadata": {
        "colab": {
          "base_uri": "https://localhost:8080/"
        },
        "id": "T1NVpVqTJGhQ",
        "outputId": "25e9452f-3c13-480e-e42b-9fdcaf667dd0"
      },
      "execution_count": 9,
      "outputs": [
        {
          "output_type": "stream",
          "name": "stdout",
          "text": [
            "[0 1 2 3 4 5 6 7 8 9]\n",
            "[ 3  5  7  9 11 13]\n"
          ]
        }
      ]
    },
    {
      "cell_type": "code",
      "source": [
        "array_linear = np.linspace(0, 100, num = 20, endpoint = False, retstep=True)\n",
        "print(array_linear)"
      ],
      "metadata": {
        "colab": {
          "base_uri": "https://localhost:8080/"
        },
        "id": "-iZoIRT4JoHH",
        "outputId": "33ce6579-4ae9-4702-936a-68458349b37f"
      },
      "execution_count": 13,
      "outputs": [
        {
          "output_type": "stream",
          "name": "stdout",
          "text": [
            "(array([ 0.,  5., 10., 15., 20., 25., 30., 35., 40., 45., 50., 55., 60.,\n",
            "       65., 70., 75., 80., 85., 90., 95.]), 5.0)\n"
          ]
        }
      ]
    },
    {
      "cell_type": "code",
      "source": [
        "a = np.array([1, 2, 3])\n",
        "\n",
        "print(a.max())\n",
        "print(a.min())\n",
        "print(a.mean())\n",
        "print(a.sum())"
      ],
      "metadata": {
        "colab": {
          "base_uri": "https://localhost:8080/"
        },
        "id": "qy9QaN3ocOyy",
        "outputId": "48363388-34d9-49a8-e542-65350b0b8b6a"
      },
      "execution_count": 19,
      "outputs": [
        {
          "output_type": "stream",
          "name": "stdout",
          "text": [
            "3\n",
            "1\n",
            "2.0\n",
            "6\n"
          ]
        }
      ]
    },
    {
      "cell_type": "code",
      "source": [
        "#Gerando amostras aleatórias\n",
        "from numpy.random import default_rng\n",
        "\n",
        "rng = default_rng()\n",
        "aleatorio = rng.integers(10, size=(2, 4))\n",
        "print(aleatorio)"
      ],
      "metadata": {
        "colab": {
          "base_uri": "https://localhost:8080/"
        },
        "id": "JGFqz1MndUh5",
        "outputId": "e319aae0-0662-481c-a105-56fa30cb9a8d"
      },
      "execution_count": 31,
      "outputs": [
        {
          "output_type": "stream",
          "name": "stdout",
          "text": [
            "[[6 5 5 4]\n",
            " [7 2 6 7]]\n"
          ]
        }
      ]
    },
    {
      "cell_type": "markdown",
      "source": [
        "Diferença entre Arrays e Listas:"
      ],
      "metadata": {
        "id": "FdXZ86YRerbP"
      }
    },
    {
      "cell_type": "code",
      "source": [
        "a = np.array([1, 3, 4, 5, 6, 7, 8])\n",
        "print(\"Essa é o array 'a': \", a)\n",
        "print('Esse é tipo \"a\":', type(a))\n",
        "print('--------------------------------')\n",
        "lista_a = [1, 3, 4, 5, 6, 7, 8, 9]\n",
        "print(\"Essa é a 'lista_a':\", lista_a)\n",
        "print(\"Esse é tipo de 'lista_a':\", type(lista_a))"
      ],
      "metadata": {
        "colab": {
          "base_uri": "https://localhost:8080/"
        },
        "id": "4B7QoA3qewo4",
        "outputId": "591e6554-b04d-4991-bde8-1e951eebd681"
      },
      "execution_count": 33,
      "outputs": [
        {
          "output_type": "stream",
          "name": "stdout",
          "text": [
            "Essa é o array 'a':  [1 3 4 5 6 7 8]\n",
            "Esse é tipo \"a\": <class 'numpy.ndarray'>\n",
            "--------------------------------\n",
            "Essa é a 'lista_a': [1, 3, 4, 5, 6, 7, 8, 9]\n",
            "Esse é tipo de 'lista_a': <class 'list'>\n"
          ]
        }
      ]
    },
    {
      "cell_type": "code",
      "source": [
        "# Arrays não permitem tipos de dados distintos, Ele fará conversão\n",
        "c = np.array([1, 'Marcelo', 2, 4, 5, 6, 7, 8, 9, ])\n",
        "print(c)\n",
        "print(type(c[0]))\n",
        "d = np.array([1, 4, 6, 8, 45, 76, 1000])\n",
        "print(d)\n",
        "print(type(d[0]))"
      ],
      "metadata": {
        "colab": {
          "base_uri": "https://localhost:8080/"
        },
        "id": "kC4J7djamIgX",
        "outputId": "e758185e-fd96-462a-a414-64dbf5e63955"
      },
      "execution_count": 37,
      "outputs": [
        {
          "output_type": "stream",
          "name": "stdout",
          "text": [
            "['1' 'Marcelo' '2' '4' '5' '6' '7' '8' '9']\n",
            "<class 'numpy.str_'>\n",
            "[   1    4    6    8   45   76 1000]\n",
            "<class 'numpy.int64'>\n"
          ]
        }
      ]
    },
    {
      "cell_type": "code",
      "source": [
        "# Em listas sim\n",
        "list_c = [1, 'Marcelo', 2, 4, 5, 6, 7, 8, 9, ]\n",
        "print(list_c)\n",
        "print(type(list_c[0]))\n",
        "print(type(list_c[1]))"
      ],
      "metadata": {
        "colab": {
          "base_uri": "https://localhost:8080/"
        },
        "id": "Y9byBr0LnBIc",
        "outputId": "b0eac863-963a-4db4-85da-ce44965f85f2"
      },
      "execution_count": 40,
      "outputs": [
        {
          "output_type": "stream",
          "name": "stdout",
          "text": [
            "[1, 'Marcelo', 2, 4, 5, 6, 7, 8, 9]\n",
            "<class 'int'>\n",
            "<class 'str'>\n"
          ]
        }
      ]
    }
  ]
}