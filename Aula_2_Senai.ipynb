{
  "nbformat": 4,
  "nbformat_minor": 0,
  "metadata": {
    "colab": {
      "name": "Aula_2_Senai.ipynb",
      "provenance": [],
      "authorship_tag": "ABX9TyMJqbRA8YYwYX9a+x66gSJ0",
      "include_colab_link": true
    },
    "kernelspec": {
      "name": "python3",
      "display_name": "Python 3"
    },
    "language_info": {
      "name": "python"
    }
  },
  "cells": [
    {
      "cell_type": "markdown",
      "metadata": {
        "id": "view-in-github",
        "colab_type": "text"
      },
      "source": [
        "<a href=\"https://colab.research.google.com/github/MacielDouglas/Senai_Python/blob/main/Aula_2_Senai.ipynb\" target=\"_parent\"><img src=\"https://colab.research.google.com/assets/colab-badge.svg\" alt=\"Open In Colab\"/></a>"
      ]
    },
    {
      "cell_type": "markdown",
      "source": [
        " Set é um tbm tipo de container de dados serve para operaçoes de pertinencia de valores mutuos e comparação de conjuntos.\n",
        "# Esta relacionado com as propriedades dos índices da biblioteca panda, e serve para estudar únicas ou chaves primárias.\n",
        "# Lembra operações com Join.\n",
        "\n",
        "Set não aceita duplicidade."
      ],
      "metadata": {
        "id": "TQeMc1JNHA2n"
      }
    },
    {
      "cell_type": "code",
      "execution_count": 18,
      "metadata": {
        "id": "zqwS6Hj3-lM5"
      },
      "outputs": [],
      "source": [
        "# Set é um tbm tipo de container de dados serve para operaçoes de pertinencia de valores mutuos e comparação de conjuntos.\n",
        "# Esta relacionado com as propriedades dos índices da biblioteca panda, e serve para estudar únicas ou chaves primárias.\n",
        "# Lembra operações com Join.\n",
        "set1 = {'Sorocaba', 'São Paulo', 'São Roque', 'Piedade', 'Campinas', 'Jiquiá', 'Perúibe', 'Campinas', 'São Paulo'}\n",
        "set2 = {'São Paulo', 'Guarulhos', 'Guarulhos', 'Santana do Parnaíba', 'Aldeia da Serra', 'Osasco', 'Sorocaba'}"
      ]
    },
    {
      "cell_type": "code",
      "source": [
        "set1"
      ],
      "metadata": {
        "colab": {
          "base_uri": "https://localhost:8080/"
        },
        "id": "TA7pQNpjG8X-",
        "outputId": "ccc61d64-e771-4207-ef12-3aa55feed4ad"
      },
      "execution_count": 19,
      "outputs": [
        {
          "output_type": "execute_result",
          "data": {
            "text/plain": [
              "{'Campinas',\n",
              " 'Jiquiá',\n",
              " 'Perúibe',\n",
              " 'Piedade',\n",
              " 'Sorocaba',\n",
              " 'São Paulo',\n",
              " 'São Roque'}"
            ]
          },
          "metadata": {},
          "execution_count": 19
        }
      ]
    },
    {
      "cell_type": "code",
      "source": [
        "set2"
      ],
      "metadata": {
        "colab": {
          "base_uri": "https://localhost:8080/"
        },
        "id": "xtumI8c6HePO",
        "outputId": "592c5024-0b01-45fd-a819-6ff7779533af"
      },
      "execution_count": 20,
      "outputs": [
        {
          "output_type": "execute_result",
          "data": {
            "text/plain": [
              "{'Aldeia da Serra',\n",
              " 'Guarulhos',\n",
              " 'Osasco',\n",
              " 'Santana do Parnaíba',\n",
              " 'Sorocaba',\n",
              " 'São Paulo'}"
            ]
          },
          "metadata": {},
          "execution_count": 20
        }
      ]
    },
    {
      "cell_type": "markdown",
      "source": [
        "Segunda carascteristicas dos sets, contem funçoes e métodos.\n",
        "Conjuntos: união, intersecção, junção.\n"
      ],
      "metadata": {
        "id": "udQUdqK8HlhW"
      }
    },
    {
      "cell_type": "code",
      "source": [
        "set1.union(set2) # faz a união de tudo o que tem nos dois, removendo a duplicidade, faz reordenação\n"
      ],
      "metadata": {
        "colab": {
          "base_uri": "https://localhost:8080/"
        },
        "id": "IawM4Cs1IUZW",
        "outputId": "4505592a-9e64-4899-e965-526ae33161bf"
      },
      "execution_count": 21,
      "outputs": [
        {
          "output_type": "execute_result",
          "data": {
            "text/plain": [
              "{'Aldeia da Serra',\n",
              " 'Campinas',\n",
              " 'Guarulhos',\n",
              " 'Jiquiá',\n",
              " 'Osasco',\n",
              " 'Perúibe',\n",
              " 'Piedade',\n",
              " 'Santana do Parnaíba',\n",
              " 'Sorocaba',\n",
              " 'São Paulo',\n",
              " 'São Roque'}"
            ]
          },
          "metadata": {},
          "execution_count": 21
        }
      ]
    },
    {
      "cell_type": "code",
      "source": [
        "set2.difference(set1) # Diferença, tudo o que está em Set2 e não está em Set1"
      ],
      "metadata": {
        "colab": {
          "base_uri": "https://localhost:8080/"
        },
        "id": "gF3jQKLeI-Ai",
        "outputId": "ac1e0351-307d-465c-e2d5-56683ef1d6f3"
      },
      "execution_count": 22,
      "outputs": [
        {
          "output_type": "execute_result",
          "data": {
            "text/plain": [
              "{'Aldeia da Serra', 'Guarulhos', 'Osasco', 'Santana do Parnaíba'}"
            ]
          },
          "metadata": {},
          "execution_count": 22
        }
      ]
    },
    {
      "cell_type": "code",
      "source": [
        "set1.difference(set2)"
      ],
      "metadata": {
        "colab": {
          "base_uri": "https://localhost:8080/"
        },
        "id": "akYu6nyjJOqJ",
        "outputId": "23de9162-82d9-4225-c276-5912678012a5"
      },
      "execution_count": 23,
      "outputs": [
        {
          "output_type": "execute_result",
          "data": {
            "text/plain": [
              "{'Campinas', 'Jiquiá', 'Perúibe', 'Piedade', 'São Roque'}"
            ]
          },
          "metadata": {},
          "execution_count": 23
        }
      ]
    },
    {
      "cell_type": "code",
      "source": [
        "set2.intersection(set1) # elementos que são comum nos dois."
      ],
      "metadata": {
        "colab": {
          "base_uri": "https://localhost:8080/"
        },
        "id": "R0Jax3F3JXSA",
        "outputId": "9107b8d7-1bc6-46c7-b4f3-152859ee920b"
      },
      "execution_count": 24,
      "outputs": [
        {
          "output_type": "execute_result",
          "data": {
            "text/plain": [
              "{'Sorocaba', 'São Paulo'}"
            ]
          },
          "metadata": {},
          "execution_count": 24
        }
      ]
    },
    {
      "cell_type": "markdown",
      "source": [
        "Os cod acima é praticamente uma teoria de join."
      ],
      "metadata": {
        "id": "Qu953RvYJpRp"
      }
    },
    {
      "cell_type": "code",
      "source": [
        "set2.add('Suzano')\n",
        "set2"
      ],
      "metadata": {
        "colab": {
          "base_uri": "https://localhost:8080/"
        },
        "id": "5Zr8x3cmJzjl",
        "outputId": "23f4dc16-dd75-4d4d-b097-28adc0b1045b"
      },
      "execution_count": 25,
      "outputs": [
        {
          "output_type": "execute_result",
          "data": {
            "text/plain": [
              "{'Aldeia da Serra',\n",
              " 'Guarulhos',\n",
              " 'Osasco',\n",
              " 'Santana do Parnaíba',\n",
              " 'Sorocaba',\n",
              " 'Suzano',\n",
              " 'São Paulo'}"
            ]
          },
          "metadata": {},
          "execution_count": 25
        }
      ]
    },
    {
      "cell_type": "code",
      "source": [
        "set2.remove('Osasco')\n",
        "set2"
      ],
      "metadata": {
        "colab": {
          "base_uri": "https://localhost:8080/"
        },
        "id": "eHqbDefFKCU3",
        "outputId": "c426a4ae-ef07-4232-a218-a0808a81fcab"
      },
      "execution_count": 26,
      "outputs": [
        {
          "output_type": "execute_result",
          "data": {
            "text/plain": [
              "{'Aldeia da Serra',\n",
              " 'Guarulhos',\n",
              " 'Santana do Parnaíba',\n",
              " 'Sorocaba',\n",
              " 'Suzano',\n",
              " 'São Paulo'}"
            ]
          },
          "metadata": {},
          "execution_count": 26
        }
      ]
    },
    {
      "cell_type": "markdown",
      "source": [
        "# Dicionários"
      ],
      "metadata": {
        "id": "nZaqfDWVKLdY"
      }
    },
    {
      "cell_type": "code",
      "source": [
        "dic1 = {'Nome': 'Carlos',\n",
        "         'Idade': 34,\n",
        "         'Cidade': 'São Paulo',\n",
        "         'Profissão': 'Jogador'}\n",
        "dic1"
      ],
      "metadata": {
        "colab": {
          "base_uri": "https://localhost:8080/"
        },
        "id": "z7ynYfT8KKrK",
        "outputId": "46c1a25a-d139-42f6-dd0b-e16b3e5cded1"
      },
      "execution_count": 28,
      "outputs": [
        {
          "output_type": "execute_result",
          "data": {
            "text/plain": [
              "{'Cidade': 'São Paulo', 'Idade': 34, 'Nome': 'Carlos', 'Profissão': 'Jogador'}"
            ]
          },
          "metadata": {},
          "execution_count": 28
        }
      ]
    },
    {
      "cell_type": "code",
      "source": [
        "dic1['Nome']"
      ],
      "metadata": {
        "colab": {
          "base_uri": "https://localhost:8080/",
          "height": 35
        },
        "id": "wyvOS0srKx2X",
        "outputId": "3d9b7884-1854-433b-847c-c785f28f80c7"
      },
      "execution_count": 29,
      "outputs": [
        {
          "output_type": "execute_result",
          "data": {
            "text/plain": [
              "'Carlos'"
            ],
            "application/vnd.google.colaboratory.intrinsic+json": {
              "type": "string"
            }
          },
          "metadata": {},
          "execution_count": 29
        }
      ]
    },
    {
      "cell_type": "code",
      "source": [
        "# Também aceita lisa\n",
        "dic2 = {'Nome': ['Carlos', 'Paula'],\n",
        "         'Idade': [34, 28],\n",
        "         'Cidade': ['São Paulo' 'Valinhos'],\n",
        "         'Profissão': ['Jogador', 'Professora']}\n",
        "dic2"
      ],
      "metadata": {
        "colab": {
          "base_uri": "https://localhost:8080/"
        },
        "id": "stJ-NNPULGjH",
        "outputId": "079182b7-cdfa-47fb-f4c1-a62bd92436f2"
      },
      "execution_count": 44,
      "outputs": [
        {
          "output_type": "execute_result",
          "data": {
            "text/plain": [
              "{'Cidade': ['São PauloValinhos'],\n",
              " 'Idade': [34, 28],\n",
              " 'Nome': ['Carlos', 'Paula'],\n",
              " 'Profissão': ['Jogador', 'Professora']}"
            ]
          },
          "metadata": {},
          "execution_count": 44
        }
      ]
    },
    {
      "cell_type": "code",
      "source": [
        "  dic2['Nome']"
      ],
      "metadata": {
        "colab": {
          "base_uri": "https://localhost:8080/"
        },
        "id": "mmSLcncQL3Zz",
        "outputId": "157e3d28-8068-4a9d-df78-61ab2ae63805"
      },
      "execution_count": 31,
      "outputs": [
        {
          "output_type": "execute_result",
          "data": {
            "text/plain": [
              "['Carlos', 'Paula']"
            ]
          },
          "metadata": {},
          "execution_count": 31
        }
      ]
    },
    {
      "cell_type": "code",
      "source": [
        "dic2['Nome'][1]"
      ],
      "metadata": {
        "id": "AQ44J7lOMPZT",
        "outputId": "c2c25a8e-ca28-4e19-96e3-47767672a7a9",
        "colab": {
          "base_uri": "https://localhost:8080/",
          "height": 35
        }
      },
      "execution_count": 32,
      "outputs": [
        {
          "output_type": "execute_result",
          "data": {
            "text/plain": [
              "'Paula'"
            ],
            "application/vnd.google.colaboratory.intrinsic+json": {
              "type": "string"
            }
          },
          "metadata": {},
          "execution_count": 32
        }
      ]
    },
    {
      "cell_type": "code",
      "source": [
        "import numpy as np\n",
        "import pandas as pd"
      ],
      "metadata": {
        "id": "iNBQgblI83hA"
      },
      "execution_count": 46,
      "outputs": []
    },
    {
      "cell_type": "code",
      "source": [
        "arr1 = np.array([1, 2, 3, 4])\n",
        "arr1"
      ],
      "metadata": {
        "colab": {
          "base_uri": "https://localhost:8080/"
        },
        "id": "Cu4FFMO69I9S",
        "outputId": "59405f59-b8f5-4f36-dc5c-8da854d17813"
      },
      "execution_count": 2,
      "outputs": [
        {
          "output_type": "execute_result",
          "data": {
            "text/plain": [
              "array([1, 2, 3, 4])"
            ]
          },
          "metadata": {},
          "execution_count": 2
        }
      ]
    },
    {
      "cell_type": "code",
      "source": [
        "# Array multdimensional, 4x4 4 arrays sobrepostos.\n",
        "arr2 = np.array([[1, 2, 3, 4 ], \n",
        "                 [5, 6, 7, 8],\n",
        "                 [9, 10, 11, 12],\n",
        "                 [13, 14, 15, 16]])\n",
        "arr2"
      ],
      "metadata": {
        "colab": {
          "base_uri": "https://localhost:8080/"
        },
        "id": "LGj_JKQZ9RXw",
        "outputId": "7168d47e-dd97-45d0-f9fe-2be2770d165b"
      },
      "execution_count": 5,
      "outputs": [
        {
          "output_type": "execute_result",
          "data": {
            "text/plain": [
              "array([[ 1,  2,  3,  4],\n",
              "       [ 5,  6,  7,  8],\n",
              "       [ 9, 10, 11, 12],\n",
              "       [13, 14, 15, 16]])"
            ]
          },
          "metadata": {},
          "execution_count": 5
        }
      ]
    },
    {
      "cell_type": "markdown",
      "source": [
        "Pegando o arr1, chamando de pd.Series outro objeto com uma chave e um valor\n",
        "dentro do Series, acrescentar um objeto chamado index. Esse indice gera uma chave. POde acessar por chave e valor.\n",
        "Pandas focado em fazer um array de uma dimensão chamado series. O pandas foi feito para precessar estatistica e tres elementos para processar dados.\n",
        " cortes transversal, series de tempo e dados de painel(dataframes)"
      ],
      "metadata": {
        "id": "YWT-OXDX_xd7"
      }
    },
    {
      "cell_type": "code",
      "source": [
        "# Pegando o arr1, chamando de pd.Series outro objeto com uma chave e um valor\n",
        "# dentro do Series, acrescentar um objeto chamado index. Esse indice gera uma chave. POde acessar por chave e valor.\n",
        "# Pandas focado em fazer um array de uma dimensão chamado series. O pandas foi feito para precessar estatistica e tres elementos para processar dados.\n",
        "# cortes transversal, series de tempo e dados de painel(dataframes)\n",
        "series1 = pd.Series(arr1, index = [2000, 2001, 2002, 2003])\n",
        "series1\n",
        "series1[2001]"
      ],
      "metadata": {
        "colab": {
          "base_uri": "https://localhost:8080/"
        },
        "id": "4U4vstHl90m-",
        "outputId": "13e0b96f-a75d-479b-bbd2-bf5a32138432"
      },
      "execution_count": 36,
      "outputs": [
        {
          "output_type": "execute_result",
          "data": {
            "text/plain": [
              "2"
            ]
          },
          "metadata": {},
          "execution_count": 36
        }
      ]
    },
    {
      "cell_type": "code",
      "source": [
        "data1 = pd.DataFrame(dic2)\n",
        "data1"
      ],
      "metadata": {
        "id": "Wp85Yaar_34A"
      },
      "execution_count": null,
      "outputs": []
    },
    {
      "cell_type": "code",
      "source": [
        "a = 100\n",
        "b = 20\n",
        "\n",
        "if (a < 100):\n",
        "  print('Tudo OK')\n",
        "else:\n",
        "  print('Nok')"
      ],
      "metadata": {
        "colab": {
          "base_uri": "https://localhost:8080/"
        },
        "id": "qL8xwTd2DLMw",
        "outputId": "182c25f0-9749-490b-e3da-3d021682253f"
      },
      "execution_count": 51,
      "outputs": [
        {
          "output_type": "stream",
          "name": "stdout",
          "text": [
            "Nok\n"
          ]
        }
      ]
    },
    {
      "cell_type": "code",
      "source": [
        "a = 20\n",
        "b = 20\n",
        "\n",
        "if (a >= 100):\n",
        "  print('Tudo OK')\n",
        "elif(a >= 80):\n",
        "  print('Não é bom')\n",
        "elif(a >= 60):\n",
        "  print('Tá ficando feio.')\n",
        "elif(a >= 50):\n",
        "  print('Se segura')\n",
        "elif(a >= 40):\n",
        "  print('Melhor dar um jeito')\n",
        "elif(a >= 30):\n",
        "  print('vai estourar')\n",
        "elif(a >=20):\n",
        "  print('Presta atenção')\n",
        "elif(a >= 10):\n",
        "  print('Não vou falar mais nada.')\n",
        "else:\n",
        "  print('Nok')"
      ],
      "metadata": {
        "colab": {
          "base_uri": "https://localhost:8080/"
        },
        "id": "qIelHGYqDmq7",
        "outputId": "c075501f-47f6-48a3-da2d-b22d0a2d7be1"
      },
      "execution_count": 57,
      "outputs": [
        {
          "output_type": "stream",
          "name": "stdout",
          "text": [
            "Presta atenção\n"
          ]
        }
      ]
    },
    {
      "cell_type": "code",
      "source": [
        "a = 1\n",
        "b = 2"
      ],
      "metadata": {
        "id": "eZh81tVrE9G3"
      },
      "execution_count": 59,
      "outputs": []
    },
    {
      "cell_type": "code",
      "source": [
        "a == a"
      ],
      "metadata": {
        "colab": {
          "base_uri": "https://localhost:8080/"
        },
        "id": "cpT8sJhuFCpd",
        "outputId": "3daebb21-3495-417b-b605-4f1f7d2e852b"
      },
      "execution_count": 60,
      "outputs": [
        {
          "output_type": "execute_result",
          "data": {
            "text/plain": [
              "True"
            ]
          },
          "metadata": {},
          "execution_count": 60
        }
      ]
    },
    {
      "cell_type": "code",
      "source": [
        "a == b"
      ],
      "metadata": {
        "colab": {
          "base_uri": "https://localhost:8080/"
        },
        "id": "FWmUnOhlFEyk",
        "outputId": "4643efe7-b218-424c-df7d-24655e87eda3"
      },
      "execution_count": 61,
      "outputs": [
        {
          "output_type": "execute_result",
          "data": {
            "text/plain": [
              "False"
            ]
          },
          "metadata": {},
          "execution_count": 61
        }
      ]
    },
    {
      "cell_type": "code",
      "source": [
        "(a == a) & (a != b)"
      ],
      "metadata": {
        "colab": {
          "base_uri": "https://localhost:8080/"
        },
        "id": "zsPPBn3aFHEx",
        "outputId": "e229149d-700e-420f-f74d-1c6d38ca10a8"
      },
      "execution_count": 62,
      "outputs": [
        {
          "output_type": "execute_result",
          "data": {
            "text/plain": [
              "True"
            ]
          },
          "metadata": {},
          "execution_count": 62
        }
      ]
    },
    {
      "cell_type": "code",
      "source": [
        "True & True"
      ],
      "metadata": {
        "colab": {
          "base_uri": "https://localhost:8080/"
        },
        "id": "Aj1mO_n8FM_3",
        "outputId": "69daa706-887a-4125-a423-f14d73839a15"
      },
      "execution_count": 63,
      "outputs": [
        {
          "output_type": "execute_result",
          "data": {
            "text/plain": [
              "True"
            ]
          },
          "metadata": {},
          "execution_count": 63
        }
      ]
    },
    {
      "cell_type": "code",
      "source": [
        "False & False"
      ],
      "metadata": {
        "colab": {
          "base_uri": "https://localhost:8080/"
        },
        "id": "kK5crmW-Fh4o",
        "outputId": "8bb8a836-45d6-4c17-c967-a6688d3b9d06"
      },
      "execution_count": 64,
      "outputs": [
        {
          "output_type": "execute_result",
          "data": {
            "text/plain": [
              "False"
            ]
          },
          "metadata": {},
          "execution_count": 64
        }
      ]
    },
    {
      "cell_type": "code",
      "source": [
        "True & False"
      ],
      "metadata": {
        "colab": {
          "base_uri": "https://localhost:8080/"
        },
        "id": "8BgPhZCUFlQP",
        "outputId": "084885ed-7faf-43ec-f581-63e29ff9efdd"
      },
      "execution_count": 65,
      "outputs": [
        {
          "output_type": "execute_result",
          "data": {
            "text/plain": [
              "False"
            ]
          },
          "metadata": {},
          "execution_count": 65
        }
      ]
    },
    {
      "cell_type": "code",
      "source": [
        "True | True"
      ],
      "metadata": {
        "colab": {
          "base_uri": "https://localhost:8080/"
        },
        "id": "YTg8n6yrFoxj",
        "outputId": "292be1d4-1522-43e5-e4c1-1ef4b460337d"
      },
      "execution_count": 66,
      "outputs": [
        {
          "output_type": "execute_result",
          "data": {
            "text/plain": [
              "True"
            ]
          },
          "metadata": {},
          "execution_count": 66
        }
      ]
    },
    {
      "cell_type": "code",
      "source": [
        "True | False"
      ],
      "metadata": {
        "colab": {
          "base_uri": "https://localhost:8080/"
        },
        "id": "dfYcXTVsFrR7",
        "outputId": "2d4814cc-fc16-4d24-b2a5-fd08250bcaea"
      },
      "execution_count": 67,
      "outputs": [
        {
          "output_type": "execute_result",
          "data": {
            "text/plain": [
              "True"
            ]
          },
          "metadata": {},
          "execution_count": 67
        }
      ]
    },
    {
      "cell_type": "code",
      "source": [
        "False | False"
      ],
      "metadata": {
        "colab": {
          "base_uri": "https://localhost:8080/"
        },
        "id": "EGMKDikLFuu5",
        "outputId": "032dc765-0ecc-4855-b3b2-674aa8e11e6f"
      },
      "execution_count": 68,
      "outputs": [
        {
          "output_type": "execute_result",
          "data": {
            "text/plain": [
              "False"
            ]
          },
          "metadata": {},
          "execution_count": 68
        }
      ]
    },
    {
      "cell_type": "code",
      "source": [
        "a = 1\n",
        "b = 1\n",
        "\n",
        "if (a > 0) | (b > 0):\n",
        "  print('ok')\n",
        "else:\n",
        "  print('not')"
      ],
      "metadata": {
        "colab": {
          "base_uri": "https://localhost:8080/"
        },
        "id": "mU7L4DFUFyUs",
        "outputId": "9606bc05-95e7-4c3d-a9ae-0e96abf95a37"
      },
      "execution_count": 76,
      "outputs": [
        {
          "output_type": "stream",
          "name": "stdout",
          "text": [
            "ok\n"
          ]
        }
      ]
    },
    {
      "cell_type": "code",
      "source": [
        "for i in range(10):\n",
        "  print(i)"
      ],
      "metadata": {
        "colab": {
          "base_uri": "https://localhost:8080/"
        },
        "id": "mcvKviJhqhrj",
        "outputId": "0b4056bb-682b-415b-ac16-d3fe1de7e39b"
      },
      "execution_count": 1,
      "outputs": [
        {
          "output_type": "stream",
          "name": "stdout",
          "text": [
            "0\n",
            "1\n",
            "2\n",
            "3\n",
            "4\n",
            "5\n",
            "6\n",
            "7\n",
            "8\n",
            "9\n"
          ]
        }
      ]
    },
    {
      "cell_type": "code",
      "source": [
        "#enquanto n for menor ou igual a 10 continue fazendo o print\n",
        "n = 0\n",
        "\n",
        "while n <= 10:\n",
        "  print(n)\n",
        "  n += 1\n"
      ],
      "metadata": {
        "colab": {
          "base_uri": "https://localhost:8080/"
        },
        "id": "ipHjs-tlsQFv",
        "outputId": "20a9461a-192c-4b6b-9549-25ccaad47bf4"
      },
      "execution_count": 3,
      "outputs": [
        {
          "output_type": "stream",
          "name": "stdout",
          "text": [
            "0\n",
            "1\n",
            "2\n",
            "3\n",
            "4\n",
            "5\n",
            "6\n",
            "7\n",
            "8\n",
            "9\n",
            "10\n"
          ]
        }
      ]
    },
    {
      "cell_type": "code",
      "source": [
        "for i in range(0, 10):\n",
        "  if i == 5:\n",
        "    pass\n",
        "  else:\n",
        "    print(i)"
      ],
      "metadata": {
        "colab": {
          "base_uri": "https://localhost:8080/"
        },
        "id": "5E3_fCIqsf_k",
        "outputId": "5b5e15f7-7b61-488f-8ae7-4239932b54d2"
      },
      "execution_count": 12,
      "outputs": [
        {
          "output_type": "stream",
          "name": "stdout",
          "text": [
            "0\n",
            "1\n",
            "2\n",
            "3\n",
            "4\n",
            "6\n",
            "7\n",
            "8\n",
            "9\n"
          ]
        }
      ]
    },
    {
      "cell_type": "code",
      "source": [
        "\n",
        "def juros(i, n, P):\n",
        "  if (i > 1):\n",
        "    print('O valor da taxa de juros não pode ser superior a 1')\n",
        "    exit\n",
        "  else:\n",
        "    juros = P*(1+i)**n\n",
        "    return(juros)\n"
      ],
      "metadata": {
        "id": "J0ZHqzvTtz2v"
      },
      "execution_count": 18,
      "outputs": []
    },
    {
      "cell_type": "code",
      "source": [
        "juros(i = 1.10, n = 2, P = 100)"
      ],
      "metadata": {
        "colab": {
          "base_uri": "https://localhost:8080/"
        },
        "id": "qd-6Fo5quAf3",
        "outputId": "197fc210-fd0d-4d0c-b64b-b75d554635c2"
      },
      "execution_count": 19,
      "outputs": [
        {
          "output_type": "stream",
          "name": "stdout",
          "text": [
            "O valor da taxa de juros não pode ser superior a 1\n"
          ]
        }
      ]
    },
    {
      "cell_type": "code",
      "source": [
        "def media(x):\n",
        "  if (len(x) == 0):\n",
        "    print('Não poemos fazer média de um conjunto vazio')\n",
        "    exit\n",
        "  else:\n",
        "    x = list(x)\n",
        "    med = sum(x)/len(x)\n",
        "    return med"
      ],
      "metadata": {
        "id": "H5Mb9pJruIf_"
      },
      "execution_count": 33,
      "outputs": []
    },
    {
      "cell_type": "code",
      "source": [
        "media(x = [0, 0, 0, 0])"
      ],
      "metadata": {
        "colab": {
          "base_uri": "https://localhost:8080/"
        },
        "id": "n3p8SxNDvFrh",
        "outputId": "ed5217cf-1bec-41ed-8513-78b9a38ee219"
      },
      "execution_count": 35,
      "outputs": [
        {
          "output_type": "execute_result",
          "data": {
            "text/plain": [
              "0.0"
            ]
          },
          "metadata": {},
          "execution_count": 35
        }
      ]
    },
    {
      "cell_type": "code",
      "source": [
        "a = [0, 1, 2, 3, 4]"
      ],
      "metadata": {
        "id": "yQj0_RCxyGUO"
      },
      "execution_count": 36,
      "outputs": []
    },
    {
      "cell_type": "code",
      "source": [
        "max(a) - min(a)"
      ],
      "metadata": {
        "colab": {
          "base_uri": "https://localhost:8080/"
        },
        "id": "gyhUsq_rydWl",
        "outputId": "428b8e84-aca0-4765-92a4-efc8891447ac"
      },
      "execution_count": 37,
      "outputs": [
        {
          "output_type": "execute_result",
          "data": {
            "text/plain": [
              "4"
            ]
          },
          "metadata": {},
          "execution_count": 37
        }
      ]
    },
    {
      "cell_type": "markdown",
      "source": [
        "def normalizador, com uma referencia (x)\n",
        "Essa função, que ela normaliza todos os elementos de um array, qual a principal posição dele, por uma referencia"
      ],
      "metadata": {
        "id": "kdurb6VNznmk"
      }
    },
    {
      "cell_type": "code",
      "source": [
        "import numpy as np\n",
        "\n",
        "def normalizador(x):\n",
        "  calc = np.array(x)\n",
        "  norm = (calc.max() - calc) / calc.max()\n",
        "  return norm\n",
        "\n",
        "# É uma forma de fazer normalização."
      ],
      "metadata": {
        "id": "f27BoAVtzBCR"
      },
      "execution_count": 40,
      "outputs": []
    },
    {
      "cell_type": "code",
      "source": [
        "normalizador(np.arange(15))"
      ],
      "metadata": {
        "colab": {
          "base_uri": "https://localhost:8080/"
        },
        "id": "15gNEyrXzWBG",
        "outputId": "375cfedd-e654-49e5-9bdb-451fe6fa34e7"
      },
      "execution_count": 41,
      "outputs": [
        {
          "output_type": "execute_result",
          "data": {
            "text/plain": [
              "array([1.        , 0.92857143, 0.85714286, 0.78571429, 0.71428571,\n",
              "       0.64285714, 0.57142857, 0.5       , 0.42857143, 0.35714286,\n",
              "       0.28571429, 0.21428571, 0.14285714, 0.07142857, 0.        ])"
            ]
          },
          "metadata": {},
          "execution_count": 41
        }
      ]
    },
    {
      "cell_type": "code",
      "source": [
        "def normalizador2(x):\n",
        "  calc = np.array(x)\n",
        "  norm2 = (calc.max() - calc) / (calc.max() - calc.min())\n",
        "  return norm2"
      ],
      "metadata": {
        "id": "zDWdN00E3xe7"
      },
      "execution_count": 46,
      "outputs": []
    },
    {
      "cell_type": "code",
      "source": [
        "normalizador2(np.arange(15))"
      ],
      "metadata": {
        "colab": {
          "base_uri": "https://localhost:8080/"
        },
        "id": "Wkn6nBU638gM",
        "outputId": "c1da5816-b940-4c30-94b7-ff976cfd9870"
      },
      "execution_count": 47,
      "outputs": [
        {
          "output_type": "execute_result",
          "data": {
            "text/plain": [
              "array([1.        , 0.92857143, 0.85714286, 0.78571429, 0.71428571,\n",
              "       0.64285714, 0.57142857, 0.5       , 0.42857143, 0.35714286,\n",
              "       0.28571429, 0.21428571, 0.14285714, 0.07142857, 0.        ])"
            ]
          },
          "metadata": {},
          "execution_count": 47
        }
      ]
    },
    {
      "cell_type": "code",
      "source": [
        "def desvio_padrao(x):\n",
        "  med = media(x)\n",
        "  desv = sum(x - media(x))"
      ],
      "metadata": {
        "id": "C-A7pC4D7sE2"
      },
      "execution_count": 48,
      "outputs": []
    },
    {
      "cell_type": "code",
      "source": [
        "x = [0, 1, 2, 3, 4, 4, 5, 6, 7, 7, 8, 9, 10, 13, 14, 15, 10, 15]\n",
        "x = np.array(x)"
      ],
      "metadata": {
        "id": "12etee1q70_0"
      },
      "execution_count": 61,
      "outputs": []
    },
    {
      "cell_type": "code",
      "source": [
        "sum((x - media(x))**2)/(len(x)- 1)"
      ],
      "metadata": {
        "colab": {
          "base_uri": "https://localhost:8080/"
        },
        "id": "TE1QEA5T75au",
        "outputId": "8055fad3-d855-4dbe-b406-582258472c2d"
      },
      "execution_count": 62,
      "outputs": [
        {
          "output_type": "execute_result",
          "data": {
            "text/plain": [
              "22.48692810457516"
            ]
          },
          "metadata": {},
          "execution_count": 62
        }
      ]
    },
    {
      "cell_type": "code",
      "source": [
        "def variancia(x):\n",
        "  x = np.array(x)\n",
        "  var = sum((x-media(x))**2)/(len(x)-1)\n",
        "  return var"
      ],
      "metadata": {
        "id": "obPtof0GHQQ0"
      },
      "execution_count": 66,
      "outputs": []
    },
    {
      "cell_type": "code",
      "source": [
        "variancia([0, 1, 2, 5, 6, 7, 10, 12, 13, 15, 19])"
      ],
      "metadata": {
        "colab": {
          "base_uri": "https://localhost:8080/"
        },
        "id": "dJ1NX_7oHlnH",
        "outputId": "cf98ce14-15f1-49ad-c058-b6b09a5f90a5"
      },
      "execution_count": 67,
      "outputs": [
        {
          "output_type": "execute_result",
          "data": {
            "text/plain": [
              "37.763636363636365"
            ]
          },
          "metadata": {},
          "execution_count": 67
        }
      ]
    },
    {
      "cell_type": "code",
      "source": [
        "def desvio(x):\n",
        "  x = np.array(x)\n",
        "  desvio = np.sqrt(sum((x-media(x))**2)/(len(x)-1))\n",
        "  return(desvio)"
      ],
      "metadata": {
        "id": "vR9MwnlPIGao"
      },
      "execution_count": 69,
      "outputs": []
    },
    {
      "cell_type": "code",
      "source": [
        "desvio([0, 1, 2, 5, 6, 7, 10, 12, 13, 15, 19])"
      ],
      "metadata": {
        "colab": {
          "base_uri": "https://localhost:8080/"
        },
        "id": "bxpxVIMdIdbR",
        "outputId": "ceaf0f78-e3cc-4ed0-ad74-5669b8d8a59c"
      },
      "execution_count": 70,
      "outputs": [
        {
          "output_type": "execute_result",
          "data": {
            "text/plain": [
              "6.145212475060269"
            ]
          },
          "metadata": {},
          "execution_count": 70
        }
      ]
    },
    {
      "cell_type": "code",
      "source": [
        "def amplitude(x):\n",
        "  ampl = max(x) - min(x)\n",
        "  return ampl"
      ],
      "metadata": {
        "id": "SdZXUyG9IyJA"
      },
      "execution_count": 71,
      "outputs": []
    },
    {
      "cell_type": "code",
      "source": [
        "amplitude([1, 2, 3, 10])"
      ],
      "metadata": {
        "colab": {
          "base_uri": "https://localhost:8080/"
        },
        "id": "b1Y8idTfI6jt",
        "outputId": "42114bab-fc16-4e65-c1ca-0aad97eb85f5"
      },
      "execution_count": 72,
      "outputs": [
        {
          "output_type": "execute_result",
          "data": {
            "text/plain": [
              "9"
            ]
          },
          "metadata": {},
          "execution_count": 72
        }
      ]
    },
    {
      "cell_type": "code",
      "source": [
        "# calculo de juros em 20 meses\n",
        "i = .10\n",
        "n = np.arange(0, 20)\n",
        "p = 100"
      ],
      "metadata": {
        "id": "wXNLzAD5KGvY"
      },
      "execution_count": 73,
      "outputs": []
    },
    {
      "cell_type": "code",
      "source": [
        "p*(1+i)**n"
      ],
      "metadata": {
        "colab": {
          "base_uri": "https://localhost:8080/"
        },
        "id": "MpBc3TMOKOM-",
        "outputId": "a68e7ac6-069e-4aed-deef-b47057f88fc5"
      },
      "execution_count": 74,
      "outputs": [
        {
          "output_type": "execute_result",
          "data": {
            "text/plain": [
              "array([100.        , 110.        , 121.        , 133.1       ,\n",
              "       146.41      , 161.051     , 177.1561    , 194.87171   ,\n",
              "       214.358881  , 235.7947691 , 259.37424601, 285.31167061,\n",
              "       313.84283767, 345.22712144, 379.74983358, 417.72481694,\n",
              "       459.49729864, 505.4470285 , 555.99173135, 611.59090448])"
            ]
          },
          "metadata": {},
          "execution_count": 74
        }
      ]
    },
    {
      "cell_type": "code",
      "source": [
        "#Emprestimo parcela d 1500 com juros de 5% em 20 meses\n",
        "pmt = 1500\n",
        "i = 0.05\n",
        "n = np.arange(20)"
      ],
      "metadata": {
        "id": "eZQzT-wLK8DL"
      },
      "execution_count": 76,
      "outputs": []
    },
    {
      "cell_type": "code",
      "source": [
        "# quanto pagaria para o banco todas as prestações\n",
        "pmt*20"
      ],
      "metadata": {
        "colab": {
          "base_uri": "https://localhost:8080/"
        },
        "id": "2BawfOYfLWSu",
        "outputId": "b4dc1a3f-1b26-49b8-f556-f45717d32931"
      },
      "execution_count": 77,
      "outputs": [
        {
          "output_type": "execute_result",
          "data": {
            "text/plain": [
              "30000"
            ]
          },
          "metadata": {},
          "execution_count": 77
        }
      ]
    },
    {
      "cell_type": "code",
      "source": [
        "#   quanto pagaria hoje descontando os juros\n",
        "pmt/((1+i)**n)"
      ],
      "metadata": {
        "colab": {
          "base_uri": "https://localhost:8080/"
        },
        "id": "FcJNdrxaLfoA",
        "outputId": "f014f3ed-9e31-41fd-a8b8-832c29653a7f"
      },
      "execution_count": 78,
      "outputs": [
        {
          "output_type": "execute_result",
          "data": {
            "text/plain": [
              "array([1500.        , 1428.57142857, 1360.54421769, 1295.7563978 ,\n",
              "       1234.05371219, 1175.2892497 , 1119.32309495, 1066.0219952 ,\n",
              "       1015.25904304,  966.91337433,  920.86988031,  877.01893363,\n",
              "        835.25612727,  795.48202597,  757.60192949,  721.52564714,\n",
              "        687.16728299,  654.44503142,  623.2809823 ,  593.60093552])"
            ]
          },
          "metadata": {},
          "execution_count": 78
        }
      ]
    },
    {
      "cell_type": "code",
      "source": [
        "# quanto devo para o banco\n",
        "sum(pmt/((1+i)**n))"
      ],
      "metadata": {
        "colab": {
          "base_uri": "https://localhost:8080/"
        },
        "id": "gX7iQNXdL9lb",
        "outputId": "f88a6025-b0a0-4684-db8a-66c1b7c8b508"
      },
      "execution_count": 79,
      "outputs": [
        {
          "output_type": "execute_result",
          "data": {
            "text/plain": [
              "19627.98128950047"
            ]
          },
          "metadata": {},
          "execution_count": 79
        }
      ]
    },
    {
      "cell_type": "code",
      "source": [
        "#Quanto estou pagando de juros\n",
        "pmt*20 - sum(pmt/((1+i)**n))"
      ],
      "metadata": {
        "colab": {
          "base_uri": "https://localhost:8080/"
        },
        "id": "THWPt0PaMHDn",
        "outputId": "089dee97-953b-49a1-a1f0-5f2195082c8c"
      },
      "execution_count": 80,
      "outputs": [
        {
          "output_type": "execute_result",
          "data": {
            "text/plain": [
              "10372.018710499531"
            ]
          },
          "metadata": {},
          "execution_count": 80
        }
      ]
    },
    {
      "cell_type": "code",
      "source": [
        ""
      ],
      "metadata": {
        "id": "pn_XRoyKMZTE"
      },
      "execution_count": null,
      "outputs": []
    }
  ]
}